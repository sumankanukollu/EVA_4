{
  "nbformat": 4,
  "nbformat_minor": 0,
  "metadata": {
    "colab": {
      "name": "suman_MNIS_with_withOutPyTorchModules.ipynb",
      "provenance": [],
      "authorship_tag": "ABX9TyNgaqpsGpqATQC8wDMiFR59",
      "include_colab_link": true
    },
    "kernelspec": {
      "name": "python3",
      "display_name": "Python 3"
    },
    "accelerator": "GPU"
  },
  "cells": [
    {
      "cell_type": "markdown",
      "metadata": {
        "id": "view-in-github",
        "colab_type": "text"
      },
      "source": [
        "<a href=\"https://colab.research.google.com/github/sumankanukollu/EVA_4/blob/master/suman_MNIS_with_withOutPyTorchModules.ipynb\" target=\"_parent\"><img src=\"https://colab.research.google.com/assets/colab-badge.svg\" alt=\"Open In Colab\"/></a>"
      ]
    },
    {
      "cell_type": "code",
      "metadata": {
        "id": "f0pUitfDhigj",
        "colab_type": "code",
        "colab": {}
      },
      "source": [
        "from pathlib import Path\n",
        "import requests\n",
        "\n",
        "DATA_PATH = Path('data')\n",
        "PATH = DATA_PATH/'mnist'\n",
        "\n",
        "PATH.mkdir(parents=True, exist_ok=True)\n",
        "\n",
        "#https://github.com/mnielsen/neural-networks-and-deep-learning/raw/master/data/mnist.pkl.gz\n",
        "URL='https://github.com/mnielsen/neural-networks-and-deep-learning/raw/master/data/'\n",
        "FILENAME='mnist.pkl.gz'\n",
        "\n",
        "if not (PATH/FILENAME).exists():\n",
        "    content = requests.get(URL+FILENAME).content\n",
        "    (PATH/FILENAME).open('wb').write(content)"
      ],
      "execution_count": 0,
      "outputs": []
    },
    {
      "cell_type": "code",
      "metadata": {
        "id": "pQrVy7r4o1q-",
        "colab_type": "code",
        "outputId": "464d1dc7-e665-4772-b809-0f056a4de627",
        "colab": {
          "base_uri": "https://localhost:8080/",
          "height": 119
        }
      },
      "source": [
        "import os\n",
        "for r,d,f in os.walk(os.path.join(os.getcwd(),'data')):\n",
        "  print(r)\n",
        "  print(d)\n",
        "  print(f)"
      ],
      "execution_count": 4,
      "outputs": [
        {
          "output_type": "stream",
          "text": [
            "/content/data\n",
            "['mnist']\n",
            "[]\n",
            "/content/data/mnist\n",
            "[]\n",
            "['mnist.pkl.gz']\n"
          ],
          "name": "stdout"
        }
      ]
    },
    {
      "cell_type": "code",
      "metadata": {
        "id": "1Gc7pxbvpEp8",
        "colab_type": "code",
        "colab": {}
      },
      "source": [
        "import pickle, gzip\n",
        "\n",
        "with gzip.open(PATH/FILENAME, 'rb') as f:\n",
        "    ((x_train, y_train), (x_valid, y_valid), _) = pickle.load(f, encoding='latin-1')"
      ],
      "execution_count": 0,
      "outputs": []
    },
    {
      "cell_type": "code",
      "metadata": {
        "id": "K674YqDipnyk",
        "colab_type": "code",
        "colab": {
          "base_uri": "https://localhost:8080/",
          "height": 282
        },
        "outputId": "6797b277-9aac-4a5f-c198-ff7020a5bdef"
      },
      "source": [
        "%matplotlib inline\n",
        "\n",
        "from matplotlib import pyplot\n",
        "import numpy as np\n",
        "\n",
        "pyplot.imshow(x_train[0].reshape((28,28)), cmap=\"gray\")\n",
        "x_train.shape"
      ],
      "execution_count": 8,
      "outputs": [
        {
          "output_type": "execute_result",
          "data": {
            "text/plain": [
              "(50000, 784)"
            ]
          },
          "metadata": {
            "tags": []
          },
          "execution_count": 8
        },
        {
          "output_type": "display_data",
          "data": {
            "image/png": "[encoded data removed]",
            "text/plain": [
              "<Figure size 432x288 with 1 Axes>"
            ]
          },
          "metadata": {
            "tags": []
          }
        }
      ]
    },
    {
      "cell_type": "code",
      "metadata": {
        "id": "XWg0x915pqiD",
        "colab_type": "code",
        "colab": {}
      },
      "source": [
        ""
      ],
      "execution_count": 0,
      "outputs": []
    }
  ]
}